{
 "cells": [
  {
   "cell_type": "code",
   "execution_count": 2,
   "metadata": {
    "id": "wxZ6fcZuCXTg"
   },
   "outputs": [
    {
     "ename": "ModuleNotFoundError",
     "evalue": "No module named 'plotly'",
     "output_type": "error",
     "traceback": [
      "\u001b[1;31m---------------------------------------------------------------------------\u001b[0m",
      "\u001b[1;31mModuleNotFoundError\u001b[0m                       Traceback (most recent call last)",
      "\u001b[1;32m<ipython-input-2-0598c329d871>\u001b[0m in \u001b[0;36m<module>\u001b[1;34m\u001b[0m\n\u001b[0;32m      6\u001b[0m \u001b[1;32mimport\u001b[0m \u001b[0mseaborn\u001b[0m \u001b[1;32mas\u001b[0m \u001b[0msns\u001b[0m\u001b[1;33m\u001b[0m\u001b[1;33m\u001b[0m\u001b[0m\n\u001b[0;32m      7\u001b[0m \u001b[1;33m\u001b[0m\u001b[0m\n\u001b[1;32m----> 8\u001b[1;33m \u001b[1;32mimport\u001b[0m \u001b[0mplotly\u001b[0m\u001b[1;33m.\u001b[0m\u001b[0mgraph_objects\u001b[0m \u001b[1;32mas\u001b[0m \u001b[0mgo\u001b[0m\u001b[1;33m\u001b[0m\u001b[1;33m\u001b[0m\u001b[0m\n\u001b[0m\u001b[0;32m      9\u001b[0m \u001b[1;32mimport\u001b[0m \u001b[0mplotly\u001b[0m\u001b[1;33m.\u001b[0m\u001b[0mexpress\u001b[0m \u001b[1;32mas\u001b[0m \u001b[0mpx\u001b[0m\u001b[1;33m\u001b[0m\u001b[1;33m\u001b[0m\u001b[0m\n\u001b[0;32m     10\u001b[0m \u001b[1;32mfrom\u001b[0m \u001b[0mplotly\u001b[0m\u001b[1;33m.\u001b[0m\u001b[0msubplots\u001b[0m \u001b[1;32mimport\u001b[0m \u001b[0mmake_subplots\u001b[0m\u001b[1;33m\u001b[0m\u001b[1;33m\u001b[0m\u001b[0m\n",
      "\u001b[1;31mModuleNotFoundError\u001b[0m: No module named 'plotly'"
     ]
    }
   ],
   "source": [
    "import pandas as pd\n",
    "import numpy as np\n",
    "import random\n",
    "\n",
    "import matplotlib.pyplot as plt\n",
    "import seaborn as sns\n",
    "\n",
    "import plotly.graph_objects as go\n",
    "import plotly.express as px\n",
    "from plotly.subplots import make_subplots\n",
    "\n",
    "colorarr = ['#0592D0','#Cd7f32', '#E97451', '#Bdb76b', '#954535', '#C2b280', '#808000','#C2b280', '#E4d008', '#9acd32', '#Eedc82', '#E4d96f',\n",
    "           '#32cd32','#39ff14','#00ff7f', '#008080', '#36454f', '#F88379', '#Ff4500', '#Ffb347', '#A94064', '#E75480', '#Ffb6c1', '#E5e4e2',\n",
    "           '#Faf0e6', '#8c92ac', '#Dbd7d2','#A7a6ba', '#B38b6d']"
   ]
  },
  {
   "cell_type": "code",
   "execution_count": null,
   "metadata": {
    "colab": {
     "base_uri": "https://localhost:8080/",
     "height": 204
    },
    "id": "Yjx0Lg6ZHeID",
    "outputId": "9cd88540-fc05-47fd-a701-8317bc46d899"
   },
   "outputs": [],
   "source": [
    "cropdf = pd.read_csv(\"Crop_recommendation.csv\")\n",
    "cropdf.head()"
   ]
  },
  {
   "cell_type": "code",
   "execution_count": null,
   "metadata": {
    "colab": {
     "base_uri": "https://localhost:8080/"
    },
    "id": "G21_iHDCHk4g",
    "outputId": "74aa7f77-2712-49fe-b2e2-5018c868e6c6"
   },
   "outputs": [],
   "source": [
    "cropdf.shape"
   ]
  },
  {
   "cell_type": "code",
   "execution_count": null,
   "metadata": {
    "colab": {
     "base_uri": "https://localhost:8080/"
    },
    "id": "1TkhcndoHsUl",
    "outputId": "1b02a6d2-c862-42e3-f06a-967c1f699b4a"
   },
   "outputs": [],
   "source": [
    "cropdf.columns"
   ]
  },
  {
   "cell_type": "code",
   "execution_count": null,
   "metadata": {
    "colab": {
     "base_uri": "https://localhost:8080/"
    },
    "id": "vIBxy9rXHuls",
    "outputId": "0574514a-9a7c-49bd-aa71-d08b95e84173"
   },
   "outputs": [],
   "source": [
    "cropdf.isnull().any()"
   ]
  },
  {
   "cell_type": "code",
   "execution_count": null,
   "metadata": {
    "colab": {
     "base_uri": "https://localhost:8080/"
    },
    "id": "mJcAhVQ1Hzmh",
    "outputId": "05dd04f7-9a7d-4603-c756-6770d35b0721"
   },
   "outputs": [],
   "source": [
    "print(\"Number of various crops: \", len(cropdf['label'].unique()))\n",
    "print(\"List of crops: \", cropdf['label'].unique())"
   ]
  },
  {
   "cell_type": "code",
   "execution_count": null,
   "metadata": {
    "colab": {
     "base_uri": "https://localhost:8080/",
     "height": 235
    },
    "id": "CyDqdpfeH4DH",
    "outputId": "27b45232-87dd-4146-8eb7-215f5e7abe13"
   },
   "outputs": [],
   "source": [
    "crop_summary = pd.pivot_table(cropdf,index=['label'],aggfunc='mean')\n",
    "crop_summary.head()"
   ]
  },
  {
   "cell_type": "code",
   "execution_count": null,
   "metadata": {
    "colab": {
     "base_uri": "https://localhost:8080/",
     "height": 517
    },
    "id": "crU4rpieH8l0",
    "outputId": "34fc9b1e-d988-4a37-c473-56f6b6ae4671"
   },
   "outputs": [],
   "source": [
    "crop_summary_N = crop_summary.sort_values(by='N', ascending=False)\n",
    "  \n",
    "fig = make_subplots(rows=1, cols=2)\n",
    "\n",
    "top = {\n",
    "    'y' : crop_summary_N['N'][0:10].sort_values().index,\n",
    "    'x' : crop_summary_N['N'][0:10].sort_values()\n",
    "}\n",
    "\n",
    "last = {\n",
    "    'y' : crop_summary_N['N'][-10:].index,\n",
    "    'x' : crop_summary_N['N'][-10:]\n",
    "}\n",
    "\n",
    "fig.add_trace(\n",
    "    go.Bar(top,\n",
    "           name=\"Most nitrogen required\",\n",
    "           marker_color=random.choice(colorarr),\n",
    "           orientation='h',\n",
    "        \n",
    "          text=top['x']),\n",
    "    \n",
    "    row=1, col=1\n",
    ")\n",
    "\n",
    "fig.add_trace(\n",
    "    go.Bar(last,\n",
    "           name=\"Least nitrogen required\",\n",
    "           marker_color=random.choice(colorarr),\n",
    "           orientation='h',\n",
    "          text=last['x']),\n",
    "    row=1, col=2\n",
    ")\n",
    "fig.update_traces(texttemplate='%{text}', textposition='inside')\n",
    "fig.update_layout(title_text=\"Nitrogen (N)\",\n",
    "                  plot_bgcolor='white',\n",
    "                  font_size=12, \n",
    "                  font_color='black',\n",
    "                 height=500)\n",
    "\n",
    "fig.update_xaxes(showgrid=False)\n",
    "fig.update_yaxes(showgrid=False)\n",
    "fig.show()"
   ]
  },
  {
   "cell_type": "code",
   "execution_count": null,
   "metadata": {
    "colab": {
     "base_uri": "https://localhost:8080/",
     "height": 517
    },
    "id": "PiCV4QqVIN5W",
    "outputId": "99548804-97ed-42af-dac3-485c6341f9d1"
   },
   "outputs": [],
   "source": [
    "crop_summary_P = crop_summary.sort_values(by='P', ascending=False)\n",
    "  \n",
    "fig = make_subplots(rows=1, cols=2)\n",
    "\n",
    "top = {\n",
    "    'y' : crop_summary_P['P'][0:10].sort_values().index,\n",
    "    'x' : crop_summary_P['P'][0:10].sort_values()\n",
    "}\n",
    "\n",
    "last = {\n",
    "    'y' : crop_summary_P['P'][-10:].index,\n",
    "    'x' : crop_summary_P['P'][-10:]\n",
    "}\n",
    "\n",
    "fig.add_trace(\n",
    "    go.Bar(top,\n",
    "           name=\"Most phosphorus required\",\n",
    "           marker_color=random.choice(colorarr),\n",
    "           orientation='h',\n",
    "          text=top['x']),\n",
    "    \n",
    "    row=1, col=1\n",
    "    )\n",
    "\n",
    "fig.add_trace(\n",
    "    go.Bar(last,\n",
    "           name=\"Least phosphorus required\",\n",
    "           marker_color=random.choice(colorarr),\n",
    "           orientation='h',\n",
    "          text=last['x']),\n",
    "    row=1, col=2\n",
    ")\n",
    "fig.update_traces(texttemplate='%{text}', textposition='inside')\n",
    "fig.update_layout(title_text=\"Phosphorus (P)\",\n",
    "                  plot_bgcolor='white',\n",
    "                  font_size=12, \n",
    "                  font_color='black',\n",
    "                 height=500)\n",
    "\n",
    "fig.update_xaxes(showgrid=False)\n",
    "fig.update_yaxes(showgrid=False)\n",
    "fig.show()"
   ]
  },
  {
   "cell_type": "code",
   "execution_count": null,
   "metadata": {
    "colab": {
     "base_uri": "https://localhost:8080/",
     "height": 517
    },
    "id": "XXzhJzbQIe7t",
    "outputId": "570b8f07-4e1c-4099-84dc-cfdc162b2ee3"
   },
   "outputs": [],
   "source": [
    "crop_summary_K = crop_summary.sort_values(by='K', ascending=False)\n",
    "  \n",
    "fig = make_subplots(rows=1, cols=2)\n",
    "\n",
    "top = {\n",
    "    'y' : crop_summary_K['K'][0:10].sort_values().index,\n",
    "    'x' : crop_summary_K['K'][0:10].sort_values()\n",
    "}\n",
    "\n",
    "last = {\n",
    "    'y' : crop_summary_K['K'][-10:].index,\n",
    "    'x' : crop_summary_K['K'][-10:]\n",
    "}\n",
    "\n",
    "fig.add_trace(\n",
    "    go.Bar(top,\n",
    "           name=\"Most potassium required\",\n",
    "           marker_color=random.choice(colorarr),\n",
    "           orientation='h',\n",
    "          text=top['x']),\n",
    "    \n",
    "    row=1, col=1\n",
    ")\n",
    "fig.add_trace(\n",
    "    go.Bar(last,\n",
    "           name=\"Least potassium required\",\n",
    "           marker_color=random.choice(colorarr),\n",
    "           orientation='h',\n",
    "          text=last['x']),\n",
    "    row=1, col=2\n",
    ")\n",
    "fig.update_traces(texttemplate='%{text}', textposition='inside')\n",
    "fig.update_layout(title_text=\"Potassium (K)\",\n",
    "                  plot_bgcolor='white',\n",
    "                  font_size=12, \n",
    "                  font_color='black',\n",
    "                 height=500)\n",
    "\n",
    "fig.update_xaxes(showgrid=False)\n",
    "fig.update_yaxes(showgrid=False)\n",
    "fig.show()"
   ]
  },
  {
   "cell_type": "code",
   "execution_count": null,
   "metadata": {
    "colab": {
     "base_uri": "https://localhost:8080/",
     "height": 542
    },
    "id": "6vpdqv5NIorI",
    "outputId": "5592d968-ba0e-473f-8f91-1c023af2f163"
   },
   "outputs": [],
   "source": [
    "fig = go.Figure()\n",
    "fig.add_trace(go.Bar(\n",
    "    x=crop_summary.index,\n",
    "    y=crop_summary['N'],\n",
    "    name='Nitrogen',\n",
    "    marker_color='indianred'\n",
    "))\n",
    "fig.add_trace(go.Bar(\n",
    "    x=crop_summary.index,\n",
    "    y=crop_summary['P'],\n",
    "    name='Phosphorous',\n",
    "    marker_color='lightsalmon'\n",
    "))\n",
    "fig.add_trace(go.Bar(\n",
    "    x=crop_summary.index,\n",
    "    y=crop_summary['K'],\n",
    "    name='Potash',\n",
    "    marker_color='crimson'\n",
    "))\n",
    "\n",
    "fig.update_layout(title=\"N, P, K values comparision between crops\",\n",
    "                  plot_bgcolor='white',\n",
    "                  barmode='group',\n",
    "                  xaxis_tickangle=-45)\n",
    "\n",
    "fig.show()"
   ]
  },
  {
   "cell_type": "code",
   "execution_count": null,
   "metadata": {
    "colab": {
     "base_uri": "https://localhost:8080/",
     "height": 542
    },
    "id": "SpdcFhf8IyGf",
    "outputId": "dc57aecc-9565-429c-eb0a-50a4034a3932"
   },
   "outputs": [],
   "source": [
    "crop_scatter = cropdf[(cropdf['label']=='rice') | \n",
    "                      (cropdf['label']=='jute') | \n",
    "                      (cropdf['label']=='cotton') |\n",
    "                     (cropdf['label']=='maize') |\n",
    "                     (cropdf['label']=='lentil')]\n",
    "\n",
    "fig = px.scatter(crop_scatter, x=\"temperature\", y=\"humidity\", color=\"label\", symbol=\"label\")\n",
    "fig.update_layout(plot_bgcolor='white')\n",
    "fig.update_xaxes(showgrid=False)\n",
    "fig.update_yaxes(showgrid=False)\n",
    "\n",
    "fig.show()"
   ]
  },
  {
   "cell_type": "code",
   "execution_count": null,
   "metadata": {
    "colab": {
     "base_uri": "https://localhost:8080/",
     "height": 391
    },
    "id": "HXh29-yXI6ox",
    "outputId": "eb236b19-528e-4e4a-e917-b3cd8cdde59a"
   },
   "outputs": [],
   "source": [
    "fig = px.bar(crop_summary, x=crop_summary.index, y=[\"rainfall\", \"temperature\", \"humidity\"])\n",
    "fig.update_layout(title_text=\"Comparision between rainfall, temerature and humidity\",\n",
    "                  plot_bgcolor='white',\n",
    "                 height=500)\n",
    "\n",
    "fig.update_xaxes(showgrid=False)\n",
    "fig.update_yaxes(showgrid=False)\n",
    "fig.show()\n"
   ]
  },
  {
   "cell_type": "code",
   "execution_count": null,
   "metadata": {
    "colab": {
     "base_uri": "https://localhost:8080/",
     "height": 569
    },
    "id": "D6JyZIKnJGAk",
    "outputId": "2c5d8a6d-0964-447b-fee8-a3891d458703"
   },
   "outputs": [],
   "source": [
    "fig, ax = plt.subplots(1, 1, figsize=(15, 9))\n",
    "sns.heatmap(cropdf.corr(), annot=True,cmap='Wistia' )\n",
    "ax.set(xlabel='features')\n",
    "ax.set(ylabel='features')\n",
    "\n",
    "plt.title('Correlation between different features', fontsize = 15, c='black')\n",
    "plt.show()"
   ]
  },
  {
   "cell_type": "code",
   "execution_count": null,
   "metadata": {
    "id": "Z83awdqSJbrW"
   },
   "outputs": [],
   "source": [
    "X = cropdf.drop('label', axis=1)\n",
    "y = cropdf['label']"
   ]
  },
  {
   "cell_type": "code",
   "execution_count": null,
   "metadata": {
    "id": "bnUVBhYhJhyZ"
   },
   "outputs": [],
   "source": [
    "from sklearn.model_selection import train_test_split\n",
    "X_train, X_test, y_train, y_test = train_test_split(X, y, test_size = 0.3,\n",
    "                                                    shuffle = True, random_state = 0)"
   ]
  },
  {
   "cell_type": "code",
   "execution_count": null,
   "metadata": {
    "colab": {
     "base_uri": "https://localhost:8080/"
    },
    "id": "UqHw6DRKJlM0",
    "outputId": "c0f772b8-93d4-4f6b-caf6-023f020c7af9"
   },
   "outputs": [],
   "source": [
    "# build the lightgbm model\n",
    "import lightgbm as lgb\n",
    "\n",
    "model = lgb.LGBMClassifier()\n",
    "model.fit(X_train, y_train)"
   ]
  },
  {
   "cell_type": "code",
   "execution_count": null,
   "metadata": {
    "id": "kuHKuRudJne0"
   },
   "outputs": [],
   "source": [
    "# predict the results\n",
    "y_pred=model.predict(X_test)"
   ]
  },
  {
   "cell_type": "code",
   "execution_count": null,
   "metadata": {
    "colab": {
     "base_uri": "https://localhost:8080/"
    },
    "id": "1Q4OR_75JtUJ",
    "outputId": "c594f67c-00de-4d4c-f3d0-a38a63e40f03"
   },
   "outputs": [],
   "source": [
    "from sklearn.metrics import accuracy_score\n",
    "\n",
    "accuracy=accuracy_score(y_pred, y_test)\n",
    "print('LightGBM Model accuracy score: {0:0.4f}'.format(accuracy_score(y_test, y_pred)))"
   ]
  },
  {
   "cell_type": "code",
   "execution_count": null,
   "metadata": {
    "colab": {
     "base_uri": "https://localhost:8080/"
    },
    "id": "MRcRb_uAJwf-",
    "outputId": "c4226699-1785-4b90-b6cf-391e9bf843d3"
   },
   "outputs": [],
   "source": [
    "y_pred_train = model.predict(X_train)\n",
    "print('Training-set accuracy score: {0:0.4f}'. format(accuracy_score(y_train, y_pred_train)))\n"
   ]
  },
  {
   "cell_type": "code",
   "execution_count": null,
   "metadata": {
    "colab": {
     "base_uri": "https://localhost:8080/",
     "height": 852
    },
    "id": "dt-QdziRKDLF",
    "outputId": "11095d71-4edb-4c8c-a392-04d0e98d38ef"
   },
   "outputs": [],
   "source": [
    "# view confusion-matrix\n",
    "# Print the Confusion Matrix and slice it into four pieces\n",
    "\n",
    "from sklearn.metrics import confusion_matrix\n",
    "cm = confusion_matrix(y_test, y_pred)\n",
    "\n",
    "plt.figure(figsize=(15,15))\n",
    "sns.heatmap(cm, annot=True, fmt=\".0f\", linewidths=.5, square = True, cmap = 'Blues');\n",
    "plt.ylabel('Actual label');\n",
    "plt.xlabel('Predicted label');\n",
    "all_sample_title = 'Confusion Matrix - score:'+str(accuracy_score(y_test,y_pred))\n",
    "plt.title(all_sample_title, size = 15);\n",
    "plt.show()\n"
   ]
  },
  {
   "cell_type": "code",
   "execution_count": null,
   "metadata": {
    "colab": {
     "base_uri": "https://localhost:8080/"
    },
    "id": "cG978NVpKJIe",
    "outputId": "70278100-280c-47d1-d011-c902e63ecba2"
   },
   "outputs": [],
   "source": [
    "from sklearn.metrics import classification_report\n",
    "print(classification_report(y_test, y_pred))"
   ]
  },
  {
   "cell_type": "code",
   "execution_count": null,
   "metadata": {
    "colab": {
     "base_uri": "https://localhost:8080/"
    },
    "id": "tjAlYD2MKNNc",
    "outputId": "82402186-c28b-40be-e785-a814a582d647"
   },
   "outputs": [],
   "source": [
    "newdata=model.predict([[90, 42, 43, 20.879744, 75, 5.5,220]])\n",
    "newdata"
   ]
  },
  {
   "cell_type": "code",
   "execution_count": null,
   "metadata": {
    "id": "8ZoQaEP3KRr5"
   },
   "outputs": [],
   "source": []
  }
 ],
 "metadata": {
  "colab": {
   "collapsed_sections": [],
   "name": "Untitled2.ipynb",
   "provenance": []
  },
  "kernelspec": {
   "display_name": "Python 3",
   "language": "python",
   "name": "python3"
  },
  "language_info": {
   "codemirror_mode": {
    "name": "ipython",
    "version": 3
   },
   "file_extension": ".py",
   "mimetype": "text/x-python",
   "name": "python",
   "nbconvert_exporter": "python",
   "pygments_lexer": "ipython3",
   "version": "3.8.5"
  }
 },
 "nbformat": 4,
 "nbformat_minor": 1
}
