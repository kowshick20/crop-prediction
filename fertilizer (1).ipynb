{
 "cells": [
  {
   "cell_type": "code",
   "execution_count": null,
   "metadata": {
    "id": "u4fxDLLfTdKL"
   },
   "outputs": [],
   "source": [
    "import numpy as np # linear algebra\n",
    "import pandas as pd # data processing, CSV file I/O (e.g. pd.read_csv)\n",
    "import warnings\n",
    "warnings.filterwarnings(\"ignore\")"
   ]
  },
  {
   "cell_type": "code",
   "execution_count": null,
   "metadata": {
    "colab": {
     "base_uri": "https://localhost:8080/",
     "height": 204
    },
    "id": "7IODirG8TvOy",
    "outputId": "7ce2f910-771a-4fca-c58f-441fd0d85736"
   },
   "outputs": [
    {
     "data": {
      "text/html": [
       "<div>\n",
       "<style scoped>\n",
       "    .dataframe tbody tr th:only-of-type {\n",
       "        vertical-align: middle;\n",
       "    }\n",
       "\n",
       "    .dataframe tbody tr th {\n",
       "        vertical-align: top;\n",
       "    }\n",
       "\n",
       "    .dataframe thead th {\n",
       "        text-align: right;\n",
       "    }\n",
       "</style>\n",
       "<table border=\"1\" class=\"dataframe\">\n",
       "  <thead>\n",
       "    <tr style=\"text-align: right;\">\n",
       "      <th></th>\n",
       "      <th>Temparature</th>\n",
       "      <th>Humidity</th>\n",
       "      <th>Crop Type</th>\n",
       "      <th>Nitrogen</th>\n",
       "      <th>Potassium</th>\n",
       "      <th>Phosphorous</th>\n",
       "      <th>pH</th>\n",
       "      <th>Rainfall</th>\n",
       "      <th>Fertilizer Name</th>\n",
       "    </tr>\n",
       "  </thead>\n",
       "  <tbody>\n",
       "    <tr>\n",
       "      <th>0</th>\n",
       "      <td>26</td>\n",
       "      <td>52</td>\n",
       "      <td>Maize</td>\n",
       "      <td>37</td>\n",
       "      <td>0</td>\n",
       "      <td>0</td>\n",
       "      <td>7.210306</td>\n",
       "      <td>8.066667</td>\n",
       "      <td>Urea</td>\n",
       "    </tr>\n",
       "    <tr>\n",
       "      <th>1</th>\n",
       "      <td>29</td>\n",
       "      <td>52</td>\n",
       "      <td>Sugarcane</td>\n",
       "      <td>12</td>\n",
       "      <td>0</td>\n",
       "      <td>36</td>\n",
       "      <td>8.735449</td>\n",
       "      <td>34.666667</td>\n",
       "      <td>DAP</td>\n",
       "    </tr>\n",
       "    <tr>\n",
       "      <th>2</th>\n",
       "      <td>34</td>\n",
       "      <td>65</td>\n",
       "      <td>Cotton</td>\n",
       "      <td>7</td>\n",
       "      <td>9</td>\n",
       "      <td>30</td>\n",
       "      <td>7.842703</td>\n",
       "      <td>133.133333</td>\n",
       "      <td>14-35-14</td>\n",
       "    </tr>\n",
       "    <tr>\n",
       "      <th>3</th>\n",
       "      <td>32</td>\n",
       "      <td>62</td>\n",
       "      <td>Tobacco</td>\n",
       "      <td>22</td>\n",
       "      <td>0</td>\n",
       "      <td>20</td>\n",
       "      <td>5.275002</td>\n",
       "      <td>178.800000</td>\n",
       "      <td>28-28</td>\n",
       "    </tr>\n",
       "    <tr>\n",
       "      <th>4</th>\n",
       "      <td>28</td>\n",
       "      <td>54</td>\n",
       "      <td>Paddy</td>\n",
       "      <td>35</td>\n",
       "      <td>0</td>\n",
       "      <td>0</td>\n",
       "      <td>5.895636</td>\n",
       "      <td>18.133333</td>\n",
       "      <td>Urea</td>\n",
       "    </tr>\n",
       "  </tbody>\n",
       "</table>\n",
       "</div>"
      ],
      "text/plain": [
       "   Temparature  Humidity   Crop Type  ...        pH    Rainfall  Fertilizer Name\n",
       "0           26         52      Maize  ...  7.210306    8.066667             Urea\n",
       "1           29         52  Sugarcane  ...  8.735449   34.666667              DAP\n",
       "2           34         65     Cotton  ...  7.842703  133.133333         14-35-14\n",
       "3           32         62    Tobacco  ...  5.275002  178.800000            28-28\n",
       "4           28         54      Paddy  ...  5.895636   18.133333             Urea\n",
       "\n",
       "[5 rows x 9 columns]"
      ]
     },
     "execution_count": 89,
     "metadata": {},
     "output_type": "execute_result"
    }
   ],
   "source": [
    "df = pd.read_csv(\"Fertilizer1.csv\")\n",
    "df.head()"
   ]
  },
  {
   "cell_type": "code",
   "execution_count": null,
   "metadata": {
    "id": "0NO11m9HT8vH"
   },
   "outputs": [],
   "source": [
    "import seaborn as sns\n",
    "import matplotlib.pyplot as plt"
   ]
  },
  {
   "cell_type": "code",
   "execution_count": null,
   "metadata": {
    "id": "1k_Vs_nqUUrI"
   },
   "outputs": [],
   "source": [
    "#Defining function for Continuous and catogorical variable\n",
    "def plot_conti(x):\n",
    "    fig, axes = plt.subplots(nrows=1,ncols=3,figsize=(15,5),tight_layout=True)\n",
    "    axes[0].set_title('Histogram')\n",
    "    sns.histplot(x,ax=axes[0])\n",
    "    axes[1].set_title('Checking Outliers')\n",
    "    sns.boxplot(x,ax=axes[1])\n",
    "    axes[2].set_title('Relation with output variable')\n",
    "    sns.boxplot(y = x,x = df['Fertilizer Name'])\n",
    "    \n",
    "def plot_cato(x):\n",
    "    fig, axes = plt.subplots(nrows=1,ncols=2,figsize=(15,5),tight_layout=True)\n",
    "    axes[0].set_title('Count Plot')\n",
    "    sns.countplot(x,ax=axes[0])\n",
    "    axes[1].set_title('Relation with output variable')\n",
    "    sns.countplot(x = x,hue = df['Fertilizer Name'], ax=axes[1])"
   ]
  },
  {
   "cell_type": "code",
   "execution_count": null,
   "metadata": {
    "colab": {
     "base_uri": "https://localhost:8080/",
     "height": 327
    },
    "id": "zdEn5r4lUamD",
    "outputId": "a0f1ab6c-5fe2-4ba1-e102-36fe42711928"
   },
   "outputs": [
    {
     "data": {
      "image/png": "[encoded data removed]",
      "text/plain": [
       "<Figure size 1080x360 with 3 Axes>"
      ]
     },
     "metadata": {
      "needs_background": "light"
     },
     "output_type": "display_data"
    }
   ],
   "source": [
    "#EDA - Temparature variable\n",
    "plot_conti(df['Temparature'])  #change temp to others"
   ]
  },
  {
   "cell_type": "code",
   "execution_count": null,
   "metadata": {
    "id": "oqHEgTcNUflS"
   },
   "outputs": [],
   "source": []
  },
  {
   "cell_type": "code",
   "execution_count": null,
   "metadata": {
    "colab": {
     "base_uri": "https://localhost:8080/",
     "height": 327
    },
    "id": "5pItRplPUszh",
    "outputId": "d0a3f809-1294-4d8f-c009-3ce06e79cda3"
   },
   "outputs": [
    {
     "data": {
      "image/png": "[encoded data removed]",
      "text/plain": [
       "<Figure size 1080x360 with 2 Axes>"
      ]
     },
     "metadata": {
      "needs_background": "light"
     },
     "output_type": "display_data"
    }
   ],
   "source": [
    "#EDA - Crop_Type variable\n",
    "plot_cato(df['Crop Type'])"
   ]
  },
  {
   "cell_type": "code",
   "execution_count": null,
   "metadata": {
    "colab": {
     "base_uri": "https://localhost:8080/",
     "height": 405
    },
    "id": "BtexyWJAU0Nk",
    "outputId": "c3b7b8e7-0b18-4ad0-fa88-c4fa0b0b372d"
   },
   "outputs": [
    {
     "data": {
      "text/plain": [
       "<matplotlib.axes._subplots.AxesSubplot at 0x7f09e176b310>"
      ]
     },
     "execution_count": 94,
     "metadata": {},
     "output_type": "execute_result"
    },
    {
     "data": {
      "image/png": "[encoded data removed]",
      "text/plain": [
       "<Figure size 1080x432 with 1 Axes>"
      ]
     },
     "metadata": {
      "needs_background": "light"
     },
     "output_type": "display_data"
    }
   ],
   "source": [
    "#relation of crop type with temperature\n",
    "plt.figure(figsize=(15,6))\n",
    "sns.boxplot(x=df['Crop Type'],y=df['Temparature'])"
   ]
  },
  {
   "cell_type": "code",
   "execution_count": null,
   "metadata": {
    "colab": {
     "base_uri": "https://localhost:8080/",
     "height": 514
    },
    "id": "ofL2aQLEU4ri",
    "outputId": "0b754f9c-58eb-4b41-eabc-eb52ed30110b"
   },
   "outputs": [
    {
     "data": {
      "text/plain": [
       "<matplotlib.axes._subplots.AxesSubplot at 0x7f09e166f9d0>"
      ]
     },
     "execution_count": 95,
     "metadata": {},
     "output_type": "execute_result"
    },
    {
     "data": {
      "image/png": "[encoded data removed]",
      "text/plain": [
       "<Figure size 1080x576 with 1 Axes>"
      ]
     },
     "metadata": {
      "needs_background": "light"
     },
     "output_type": "display_data"
    }
   ],
   "source": [
    "#relation of crop type with Humidity\n",
    "plt.figure(figsize=(15,8))\n",
    "sns.boxplot(x=df['Crop Type'],y=df['Humidity '])"
   ]
  },
  {
   "cell_type": "code",
   "execution_count": null,
   "metadata": {
    "colab": {
     "base_uri": "https://localhost:8080/",
     "height": 514
    },
    "id": "yoew_OCAU78I",
    "outputId": "3e88fc59-e2b7-4b59-e7fc-fcfd1ddcd92e"
   },
   "outputs": [
    {
     "data": {
      "text/plain": [
       "<matplotlib.axes._subplots.AxesSubplot at 0x7f09e667ecd0>"
      ]
     },
     "execution_count": 96,
     "metadata": {},
     "output_type": "execute_result"
    },
    {
     "data": {
      "image/png": "[encoded data removed]",
      "text/plain": [
       "<Figure size 1080x576 with 1 Axes>"
      ]
     },
     "metadata": {
      "needs_background": "light"
     },
     "output_type": "display_data"
    }
   ],
   "source": [
    "#relation of nitrogen wrt to crop type\n",
    "plt.figure(figsize=(15,8))\n",
    "sns.boxplot(x=df['Crop Type'],y=df['Nitrogen'])"
   ]
  },
  {
   "cell_type": "code",
   "execution_count": null,
   "metadata": {
    "id": "oE_pHegBVBG3"
   },
   "outputs": [],
   "source": [
    "y = df['Fertilizer Name'].copy()\n",
    "X = df.drop('Fertilizer Name', axis=1).copy()"
   ]
  },
  {
   "cell_type": "code",
   "execution_count": null,
   "metadata": {
    "id": "wvPHIlJXVL6b"
   },
   "outputs": [],
   "source": [
    "from sklearn.compose import ColumnTransformer\n",
    "from sklearn.preprocessing import OneHotEncoder\n",
    "ct = ColumnTransformer(transformers=[('encoder', OneHotEncoder(), [2])], remainder='passthrough')\n",
    "X = np.array(ct.fit_transform(X))"
   ]
  },
  {
   "cell_type": "code",
   "execution_count": null,
   "metadata": {
    "colab": {
     "base_uri": "https://localhost:8080/"
    },
    "id": "Jrg31WkzVN-3",
    "outputId": "a730da99-591f-4899-b8be-cfe47f96a329"
   },
   "outputs": [
    {
     "data": {
      "text/plain": [
       "array([ 0.        ,  0.        ,  0.        ,  1.        ,  0.        ,\n",
       "        0.        ,  0.        ,  0.        ,  0.        ,  0.        ,\n",
       "        0.        , 26.        , 52.        , 37.        ,  0.        ,\n",
       "        0.        ,  7.21030646,  8.06666667])"
      ]
     },
     "execution_count": 99,
     "metadata": {},
     "output_type": "execute_result"
    }
   ],
   "source": [
    "X[0]"
   ]
  },
  {
   "cell_type": "code",
   "execution_count": null,
   "metadata": {
    "id": "G_y00BsAVQIJ"
   },
   "outputs": [],
   "source": [
    "from sklearn.model_selection import train_test_split\n",
    "X_train, X_test, y_train, y_test = train_test_split(X, y, train_size=0.7, shuffle=True, random_state=42)"
   ]
  },
  {
   "cell_type": "code",
   "execution_count": null,
   "metadata": {
    "id": "ugxuos2PVU2P"
   },
   "outputs": [],
   "source": [
    "from sklearn.preprocessing import StandardScaler\n",
    "sc = StandardScaler()\n",
    "X_train = sc.fit_transform(X_train)\n",
    "X_test = sc.transform(X_test)"
   ]
  },
  {
   "cell_type": "code",
   "execution_count": null,
   "metadata": {
    "colab": {
     "base_uri": "https://localhost:8080/"
    },
    "id": "kg2bo3KvVYY4",
    "outputId": "11243cda-cd86-4bf1-f66b-47e3c376a03a"
   },
   "outputs": [
    {
     "data": {
      "text/plain": [
       "array([-0.24806947, -0.33601075, -0.33601075, -0.17277369, -0.36214298,\n",
       "       -0.24806947, -0.36214298,  3.24037035, -0.43549417, -0.24806947,\n",
       "       -0.36214298, -1.50323411, -1.54242294,  0.46072126, -0.57643157,\n",
       "        0.09092764, -0.17488826,  0.08483488])"
      ]
     },
     "execution_count": 102,
     "metadata": {},
     "output_type": "execute_result"
    }
   ],
   "source": [
    "X_train[0]"
   ]
  },
  {
   "cell_type": "code",
   "execution_count": null,
   "metadata": {
    "colab": {
     "base_uri": "https://localhost:8080/"
    },
    "id": "vFvf96e7VcH9",
    "outputId": "35281825-d411-4eac-c343-fba1c61165c0"
   },
   "outputs": [
    {
     "data": {
      "text/plain": [
       "RandomForestClassifier(bootstrap=True, ccp_alpha=0.0, class_weight=None,\n",
       "                       criterion='gini', max_depth=None, max_features='auto',\n",
       "                       max_leaf_nodes=None, max_samples=None,\n",
       "                       min_impurity_decrease=0.0, min_impurity_split=None,\n",
       "                       min_samples_leaf=1, min_samples_split=2,\n",
       "                       min_weight_fraction_leaf=0.0, n_estimators=100,\n",
       "                       n_jobs=None, oob_score=False, random_state=42, verbose=0,\n",
       "                       warm_start=False)"
      ]
     },
     "execution_count": 103,
     "metadata": {},
     "output_type": "execute_result"
    }
   ],
   "source": [
    "from sklearn.ensemble import RandomForestClassifier\n",
    "classifier = RandomForestClassifier(n_estimators= 100, criterion = 'gini' , random_state= 42)\n",
    "classifier.fit(X_train, y_train)"
   ]
  },
  {
   "cell_type": "code",
   "execution_count": null,
   "metadata": {
    "id": "9UBCwkLGWKcl"
   },
   "outputs": [],
   "source": [
    "y_pred = classifier.predict(X_test)"
   ]
  },
  {
   "cell_type": "code",
   "execution_count": null,
   "metadata": {
    "colab": {
     "base_uri": "https://localhost:8080/"
    },
    "id": "duCeZSRUWOD_",
    "outputId": "3781a952-abcc-4756-cb0d-c036d623fc8c"
   },
   "outputs": [
    {
     "name": "stdout",
     "output_type": "stream",
     "text": [
      "pred: ['28-28' '20-20' '10/26/2026' 'Urea' 'DAP' '28-28' 'Urea' '28-28' 'DAP'\n",
      " 'Urea' 'DAP' '28-28' '28-28' '14-35-14' 'DAP' 'Urea' 'DAP' 'Urea'\n",
      " '17-17-17' 'Urea' '14-35-14' '28-28' '10/26/2026' '17-17-17' 'DAP'\n",
      " '14-35-14' '14-35-14' 'Urea' '17-17-17' 'DAP']\n",
      "act: [[-0.24806947  2.97609524 -0.33601075 -0.17277369 -0.36214298 -0.24806947\n",
      "  -0.36214298 -0.3086067  -0.43549417 -0.24806947 -0.36214298  1.06134936\n",
      "   0.9915576   0.46072126 -0.57643157  0.16743993 -0.39479653  0.48606229]\n",
      " [-0.24806947 -0.33601075 -0.33601075 -0.17277369 -0.36214298 -0.24806947\n",
      "  -0.36214298  3.24037035 -0.43549417 -0.24806947 -0.36214298 -0.93332667\n",
      "  -0.86669479 -0.49732651 -0.57643157 -0.36814607  1.09268654 -1.13024123]\n",
      " [-0.24806947 -0.33601075 -0.33601075 -0.17277369 -0.36214298 -0.24806947\n",
      "  -0.36214298 -0.3086067  -0.43549417  4.03112887 -0.36214298 -0.07846552\n",
      "   0.14689742 -1.28118377  2.51103066 -0.06209693 -2.10697179  0.21667837]\n",
      " [-0.24806947  2.97609524 -0.33601075 -0.17277369 -0.36214298 -0.24806947\n",
      "  -0.36214298 -0.3086067  -0.43549417 -0.24806947 -0.36214298 -0.64837295\n",
      "  -0.86669479  1.76715002 -0.57643157 -1.3628058  -1.4571122   0.13244503]\n",
      " [-0.24806947 -0.33601075 -0.33601075 -0.17277369  2.76134025 -0.24806947\n",
      "  -0.36214298 -0.3086067  -0.43549417 -0.24806947 -0.36214298  1.6312568\n",
      "   0.14689742 -0.323136   -0.57643157  1.77419795  1.04661624 -0.79900481]\n",
      " [ 4.03112887 -0.33601075 -0.33601075 -0.17277369 -0.36214298 -0.24806947\n",
      "  -0.36214298 -0.3086067  -0.43549417 -0.24806947 -0.36214298  0.2064882\n",
      "   0.48476149  0.1994355  -0.57643157  0.77953822 -0.87784804 -1.11152271]\n",
      " [-0.24806947 -0.33601075 -0.33601075 -0.17277369 -0.36214298  4.03112887\n",
      "  -0.36214298 -0.3086067  -0.43549417 -0.24806947 -0.36214298 -0.93332667\n",
      "  -1.03562683  1.59295952 -0.57643157 -1.3628058   0.16797076 -1.13146201]\n",
      " [-0.24806947 -0.33601075 -0.33601075 -0.17277369 -0.36214298 -0.24806947\n",
      "  -0.36214298 -0.3086067  -0.43549417  4.03112887 -0.36214298  0.49144192\n",
      "   0.48476149  0.28653075 -0.57643157  0.47348908 -0.39074304  0.12105115]\n",
      " [-0.24806947 -0.33601075 -0.33601075 -0.17277369 -0.36214298 -0.24806947\n",
      "  -0.36214298  3.24037035 -0.43549417 -0.24806947 -0.36214298 -0.93332667\n",
      "  -0.86669479 -0.49732651 -0.57643157  1.69768566 -0.29810872  0.64842511]\n",
      " [-0.24806947 -0.33601075 -0.33601075  5.78791845 -0.36214298 -0.24806947\n",
      "  -0.36214298 -0.3086067  -0.43549417 -0.24806947 -0.36214298 -1.21828039\n",
      "  -1.20455886  1.59295952 -0.57643157 -1.3628058  -0.39479653 -1.03786941]\n",
      " [-0.24806947 -0.33601075 -0.33601075 -0.17277369 -0.36214298 -0.24806947\n",
      "  -0.36214298 -0.3086067   2.29624199 -0.24806947 -0.36214298 -0.07846552\n",
      "   0.14689742 -0.58442176 -0.57643157  1.69768566 -0.39479653 -0.25820235]\n",
      " [-0.24806947 -0.33601075 -0.33601075  5.78791845 -0.36214298 -0.24806947\n",
      "  -0.36214298 -0.3086067  -0.43549417 -0.24806947 -0.36214298 -0.07846552\n",
      "   0.14689742  0.28653075 -0.57643157  0.24395222  1.19553139 -1.11721965]\n",
      " [-0.24806947 -0.33601075 -0.33601075 -0.17277369 -0.36214298 -0.24806947\n",
      "   2.76134025 -0.3086067  -0.43549417 -0.24806947 -0.36214298 -0.36341924\n",
      "  -0.19096665  0.46072126 -0.57643157  0.01441536  0.86602602 -0.07183099]\n",
      " [-0.24806947  2.97609524 -0.33601075 -0.17277369 -0.36214298 -0.24806947\n",
      "  -0.36214298 -0.3086067  -0.43549417 -0.24806947 -0.36214298 -0.07846552\n",
      "   0.14689742 -0.84570751  1.05810726  0.85605051 -0.17488826  0.43763829]\n",
      " [ 4.03112887 -0.33601075 -0.33601075 -0.17277369 -0.36214298 -0.24806947\n",
      "  -0.36214298 -0.3086067  -0.43549417 -0.24806947 -0.36214298  1.34630308\n",
      "   1.32942167 -0.75861226 -0.57643157  1.31512423  1.10352817 -1.10704655]\n",
      " [-0.24806947 -0.33601075 -0.33601075 -0.17277369 -0.36214298 -0.24806947\n",
      "   2.76134025 -0.3086067  -0.43549417 -0.24806947 -0.36214298 -0.64837295\n",
      "  -0.86669479  1.41876902 -0.57643157 -1.3628058  -1.56471634 -0.91497825]\n",
      " [-0.24806947 -0.33601075 -0.33601075 -0.17277369 -0.36214298 -0.24806947\n",
      "  -0.36214298 -0.3086067  -0.43549417  4.03112887 -0.36214298  1.34630308\n",
      "   1.49835371 -0.67151701 -0.57643157  1.4681488  -0.87784804  0.72492689]\n",
      " [-0.24806947  2.97609524 -0.33601075 -0.17277369 -0.36214298 -0.24806947\n",
      "  -0.36214298 -0.3086067  -0.43549417 -0.24806947 -0.36214298 -1.50323411\n",
      "  -1.54242294  1.50586427 -0.57643157 -1.3628058   0.40123534 -1.02973092]\n",
      " [-0.24806947 -0.33601075 -0.33601075 -0.17277369 -0.36214298 -0.24806947\n",
      "  -0.36214298 -0.3086067  -0.43549417 -0.24806947  2.76134025  1.6312568\n",
      "   1.49835371 -0.58442176  2.69264608  0.09092764 -0.17488826 -1.05007714]\n",
      " [-0.24806947 -0.33601075 -0.33601075 -0.17277369 -0.36214298  4.03112887\n",
      "  -0.36214298 -0.3086067  -0.43549417 -0.24806947 -0.36214298 -0.93332667\n",
      "  -1.03562683  2.02843578 -0.57643157 -1.3628058  -0.39074304 -0.52392395]\n",
      " [-0.24806947 -0.33601075 -0.33601075  5.78791845 -0.36214298 -0.24806947\n",
      "  -0.36214298 -0.3086067  -0.43549417 -0.24806947 -0.36214298  0.77639564\n",
      "   0.82262557 -1.19408852  1.05810726  0.85605051 -1.4571122  -0.62728273]\n",
      " [-0.24806947 -0.33601075 -0.33601075 -0.17277369 -0.36214298 -0.24806947\n",
      "  -0.36214298  3.24037035 -0.43549417 -0.24806947 -0.36214298 -1.21828039\n",
      "  -1.20455886  0.1994355  -0.57643157  0.39697679 -2.36154961 -0.54671171]\n",
      " [-0.24806947 -0.33601075 -0.33601075 -0.17277369 -0.36214298 -0.24806947\n",
      "  -0.36214298  3.24037035 -0.43549417 -0.24806947 -0.36214298 -1.50323411\n",
      "  -1.54242294 -1.10699326  2.87426151 -0.13860921  0.33188426 -1.07164413]\n",
      " [-0.24806947 -0.33601075 -0.33601075 -0.17277369 -0.36214298 -0.24806947\n",
      "  -0.36214298 -0.3086067   2.29624199 -0.24806947 -0.36214298  0.2064882\n",
      "   0.48476149 -0.75861226  1.78456896 -0.29163379  0.83106523  0.10029801]\n",
      " [-0.24806947 -0.33601075 -0.33601075 -0.17277369  2.76134025 -0.24806947\n",
      "  -0.36214298 -0.3086067  -0.43549417 -0.24806947 -0.36214298 -0.36341924\n",
      "  -0.19096665 -0.323136   -0.57643157  1.4681488  -2.36154961  0.16947515]\n",
      " [ 4.03112887 -0.33601075 -0.33601075 -0.17277369 -0.36214298 -0.24806947\n",
      "  -0.36214298 -0.3086067  -0.43549417 -0.24806947 -0.36214298  1.6312568\n",
      "   1.49835371 -1.01989801  1.05810726  0.9325628   0.16797076 -0.89096971]\n",
      " [-0.24806947 -0.33601075 -0.33601075 -0.17277369 -0.36214298  4.03112887\n",
      "  -0.36214298 -0.3086067  -0.43549417 -0.24806947 -0.36214298 -0.36341924\n",
      "  -0.19096665 -0.84570751  0.69487641  0.9325628   1.09268654 -0.81406101]\n",
      " [-0.24806947 -0.33601075 -0.33601075 -0.17277369  2.76134025 -0.24806947\n",
      "  -0.36214298 -0.3086067  -0.43549417 -0.24806947 -0.36214298 -0.07846552\n",
      "   0.14689742  1.94134053 -0.57643157 -1.3628058  -1.46723922 -0.77052011]\n",
      " [-0.24806947 -0.33601075 -0.33601075  5.78791845 -0.36214298 -0.24806947\n",
      "  -0.36214298 -0.3086067  -0.43549417 -0.24806947 -0.36214298  0.2064882\n",
      "   0.48476149 -0.41023126  2.14779981 -0.44465836 -0.39074304  3.09892355]\n",
      " [-0.24806947  2.97609524 -0.33601075 -0.17277369 -0.36214298 -0.24806947\n",
      "  -0.36214298 -0.3086067  -0.43549417 -0.24806947 -0.36214298  1.6312568\n",
      "   1.49835371 -0.323136   -0.57643157  1.69768566 -2.11701703 -0.59472879]]\n"
     ]
    }
   ],
   "source": [
    "print(\"pred:\",y_pred)\n",
    "print(\"act:\",X_test)"
   ]
  },
  {
   "cell_type": "code",
   "execution_count": null,
   "metadata": {
    "colab": {
     "base_uri": "https://localhost:8080/"
    },
    "id": "31YuRXWfWWIl",
    "outputId": "bcbd7127-d8e7-4ea5-8fd4-6d9a4cfc1e87"
   },
   "outputs": [
    {
     "name": "stdout",
     "output_type": "stream",
     "text": [
      "[[2 0 1 0 0 0 0]\n",
      " [0 4 0 0 0 0 0]\n",
      " [0 0 2 0 0 0 0]\n",
      " [0 0 0 1 0 0 0]\n",
      " [0 0 0 0 6 0 0]\n",
      " [0 0 0 0 0 7 0]\n",
      " [0 0 0 0 0 0 7]]\n"
     ]
    },
    {
     "data": {
      "text/plain": [
       "0.9666666666666667"
      ]
     },
     "execution_count": 106,
     "metadata": {},
     "output_type": "execute_result"
    }
   ],
   "source": [
    "from sklearn.metrics import confusion_matrix, accuracy_score\n",
    "cm = confusion_matrix(y_test, y_pred)\n",
    "print(cm)\n",
    "accuracy_score(y_test, y_pred)"
   ]
  },
  {
   "cell_type": "code",
   "execution_count": null,
   "metadata": {
    "colab": {
     "base_uri": "https://localhost:8080/"
    },
    "id": "ZPKznlwGWeQc",
    "outputId": "58ff5777-42d1-4c74-cd2b-915acdaffc33"
   },
   "outputs": [
    {
     "data": {
      "text/plain": [
       "0.9666666666666667"
      ]
     },
     "execution_count": 107,
     "metadata": {},
     "output_type": "execute_result"
    }
   ],
   "source": [
    "classifier.score(X_test, y_test)"
   ]
  },
  {
   "cell_type": "code",
   "execution_count": null,
   "metadata": {
    "colab": {
     "base_uri": "https://localhost:8080/",
     "height": 297
    },
    "id": "BSJiZ8yHYNFB",
    "outputId": "9e60d82c-d627-4a24-b4a4-7b13cf9ef406"
   },
   "outputs": [
    {
     "data": {
      "text/html": [
       "<div>\n",
       "<style scoped>\n",
       "    .dataframe tbody tr th:only-of-type {\n",
       "        vertical-align: middle;\n",
       "    }\n",
       "\n",
       "    .dataframe tbody tr th {\n",
       "        vertical-align: top;\n",
       "    }\n",
       "\n",
       "    .dataframe thead th {\n",
       "        text-align: right;\n",
       "    }\n",
       "</style>\n",
       "<table border=\"1\" class=\"dataframe\">\n",
       "  <thead>\n",
       "    <tr style=\"text-align: right;\">\n",
       "      <th></th>\n",
       "      <th>Encoded</th>\n",
       "    </tr>\n",
       "    <tr>\n",
       "      <th>Original</th>\n",
       "      <th></th>\n",
       "    </tr>\n",
       "  </thead>\n",
       "  <tbody>\n",
       "    <tr>\n",
       "      <th>10/26/2026</th>\n",
       "      <td>0</td>\n",
       "    </tr>\n",
       "    <tr>\n",
       "      <th>14-35-14</th>\n",
       "      <td>1</td>\n",
       "    </tr>\n",
       "    <tr>\n",
       "      <th>17-17-17</th>\n",
       "      <td>2</td>\n",
       "    </tr>\n",
       "    <tr>\n",
       "      <th>20-20</th>\n",
       "      <td>3</td>\n",
       "    </tr>\n",
       "    <tr>\n",
       "      <th>28-28</th>\n",
       "      <td>4</td>\n",
       "    </tr>\n",
       "    <tr>\n",
       "      <th>DAP</th>\n",
       "      <td>5</td>\n",
       "    </tr>\n",
       "    <tr>\n",
       "      <th>Urea</th>\n",
       "      <td>6</td>\n",
       "    </tr>\n",
       "  </tbody>\n",
       "</table>\n",
       "</div>"
      ],
      "text/plain": [
       "            Encoded\n",
       "Original           \n",
       "10/26/2026        0\n",
       "14-35-14          1\n",
       "17-17-17          2\n",
       "20-20             3\n",
       "28-28             4\n",
       "DAP               5\n",
       "Urea              6"
      ]
     },
     "execution_count": 108,
     "metadata": {},
     "output_type": "execute_result"
    }
   ],
   "source": [
    "#encoding the labels for categorical variables\n",
    "from sklearn.preprocessing import LabelEncoder\n",
    "\n",
    "encode_ferti = LabelEncoder()\n",
    "df['Fertilizer Name'] = encode_ferti.fit_transform(df['Fertilizer Name'])\n",
    "\n",
    "#creating the DataFrame\n",
    "Fertilizer = pd.DataFrame(zip(encode_ferti.classes_,encode_ferti.transform(encode_ferti.classes_)),columns=['Original','Encoded'])\n",
    "Fertilizer = Fertilizer.set_index('Original')\n",
    "Fertilizer"
   ]
  },
  {
   "cell_type": "code",
   "execution_count": null,
   "metadata": {
    "colab": {
     "base_uri": "https://localhost:8080/",
     "height": 421
    },
    "id": "exfGq3gXYU17",
    "outputId": "8ce52003-eea4-4fec-bfad-2d5a8c2044f5"
   },
   "outputs": [
    {
     "data": {
      "text/html": [
       "<div>\n",
       "<style scoped>\n",
       "    .dataframe tbody tr th:only-of-type {\n",
       "        vertical-align: middle;\n",
       "    }\n",
       "\n",
       "    .dataframe tbody tr th {\n",
       "        vertical-align: top;\n",
       "    }\n",
       "\n",
       "    .dataframe thead th {\n",
       "        text-align: right;\n",
       "    }\n",
       "</style>\n",
       "<table border=\"1\" class=\"dataframe\">\n",
       "  <thead>\n",
       "    <tr style=\"text-align: right;\">\n",
       "      <th></th>\n",
       "      <th>Encoded</th>\n",
       "    </tr>\n",
       "    <tr>\n",
       "      <th>Original</th>\n",
       "      <th></th>\n",
       "    </tr>\n",
       "  </thead>\n",
       "  <tbody>\n",
       "    <tr>\n",
       "      <th>Barley</th>\n",
       "      <td>0</td>\n",
       "    </tr>\n",
       "    <tr>\n",
       "      <th>Cotton</th>\n",
       "      <td>1</td>\n",
       "    </tr>\n",
       "    <tr>\n",
       "      <th>Ground Nuts</th>\n",
       "      <td>2</td>\n",
       "    </tr>\n",
       "    <tr>\n",
       "      <th>Maize</th>\n",
       "      <td>3</td>\n",
       "    </tr>\n",
       "    <tr>\n",
       "      <th>Millets</th>\n",
       "      <td>4</td>\n",
       "    </tr>\n",
       "    <tr>\n",
       "      <th>Oil seeds</th>\n",
       "      <td>5</td>\n",
       "    </tr>\n",
       "    <tr>\n",
       "      <th>Paddy</th>\n",
       "      <td>6</td>\n",
       "    </tr>\n",
       "    <tr>\n",
       "      <th>Pulses</th>\n",
       "      <td>7</td>\n",
       "    </tr>\n",
       "    <tr>\n",
       "      <th>Sugarcane</th>\n",
       "      <td>8</td>\n",
       "    </tr>\n",
       "    <tr>\n",
       "      <th>Tobacco</th>\n",
       "      <td>9</td>\n",
       "    </tr>\n",
       "    <tr>\n",
       "      <th>Wheat</th>\n",
       "      <td>10</td>\n",
       "    </tr>\n",
       "  </tbody>\n",
       "</table>\n",
       "</div>"
      ],
      "text/plain": [
       "             Encoded\n",
       "Original            \n",
       "Barley             0\n",
       "Cotton             1\n",
       "Ground Nuts        2\n",
       "Maize              3\n",
       "Millets            4\n",
       "Oil seeds          5\n",
       "Paddy              6\n",
       "Pulses             7\n",
       "Sugarcane          8\n",
       "Tobacco            9\n",
       "Wheat             10"
      ]
     },
     "execution_count": 109,
     "metadata": {},
     "output_type": "execute_result"
    }
   ],
   "source": [
    "encode_crop =  LabelEncoder()\n",
    "df['Crop Type'] = encode_crop.fit_transform(df['Crop Type'])\n",
    "\n",
    "#creating the DataFrame\n",
    "Crop_Type = pd.DataFrame(zip(encode_crop.classes_,encode_crop.transform(encode_crop.classes_)),columns=['Original','Encoded'])\n",
    "Crop_Type = Crop_Type.set_index('Original')\n",
    "Crop_Type"
   ]
  },
  {
   "cell_type": "code",
   "execution_count": null,
   "metadata": {
    "colab": {
     "base_uri": "https://localhost:8080/"
    },
    "id": "MtsY3T-2Yflx",
    "outputId": "16a238fa-95e2-4813-8685-422101094723"
   },
   "outputs": [
    {
     "name": "stdout",
     "output_type": "stream",
     "text": [
      "Shape of Splitting :\n",
      "x_train = (79, 8), y_train = (79,), x_test = (20, 8), y_test = (20,)\n"
     ]
    }
   ],
   "source": [
    "#splitting the data into train and test\n",
    "from sklearn.model_selection import train_test_split\n",
    "\n",
    "x_train, x_test, y_train, y_test = train_test_split(df.drop('Fertilizer Name',axis=1),df['Fertilizer Name'],test_size=0.2,random_state=1)\n",
    "print('Shape of Splitting :')\n",
    "print('x_train = {}, y_train = {}, x_test = {}, y_test = {}'.format(x_train.shape,y_train.shape,x_test.shape,y_test.shape))"
   ]
  },
  {
   "cell_type": "code",
   "execution_count": null,
   "metadata": {
    "colab": {
     "base_uri": "https://localhost:8080/"
    },
    "id": "ymGM7k17Yoaw",
    "outputId": "936c8c46-9d42-4816-a011-e5f60c0292c0"
   },
   "outputs": [
    {
     "name": "stdout",
     "output_type": "stream",
     "text": [
      "<class 'pandas.core.frame.DataFrame'>\n",
      "Int64Index: 79 entries, 2 to 37\n",
      "Data columns (total 8 columns):\n",
      " #   Column       Non-Null Count  Dtype  \n",
      "---  ------       --------------  -----  \n",
      " 0   Temparature  79 non-null     int64  \n",
      " 1   Humidity     79 non-null     int64  \n",
      " 2   Crop Type    79 non-null     int64  \n",
      " 3   Nitrogen     79 non-null     int64  \n",
      " 4   Potassium    79 non-null     int64  \n",
      " 5   Phosphorous  79 non-null     int64  \n",
      " 6   pH           79 non-null     float64\n",
      " 7   Rainfall     79 non-null     float64\n",
      "dtypes: float64(2), int64(6)\n",
      "memory usage: 5.6 KB\n"
     ]
    }
   ],
   "source": [
    "x_train.info()"
   ]
  },
  {
   "cell_type": "code",
   "execution_count": null,
   "metadata": {
    "colab": {
     "base_uri": "https://localhost:8080/"
    },
    "id": "YLswNKO1Yr44",
    "outputId": "790a4094-69a8-425d-9859-e7aa4883102f"
   },
   "outputs": [
    {
     "data": {
      "text/plain": [
       "RandomForestClassifier(bootstrap=True, ccp_alpha=0.0, class_weight=None,\n",
       "                       criterion='gini', max_depth=None, max_features='auto',\n",
       "                       max_leaf_nodes=None, max_samples=None,\n",
       "                       min_impurity_decrease=0.0, min_impurity_split=None,\n",
       "                       min_samples_leaf=1, min_samples_split=2,\n",
       "                       min_weight_fraction_leaf=0.0, n_estimators=100,\n",
       "                       n_jobs=None, oob_score=False, random_state=42, verbose=0,\n",
       "                       warm_start=False)"
      ]
     },
     "execution_count": 112,
     "metadata": {},
     "output_type": "execute_result"
    }
   ],
   "source": [
    "rand = RandomForestClassifier(random_state = 42)\n",
    "rand.fit(x_train,y_train)"
   ]
  },
  {
   "cell_type": "code",
   "execution_count": null,
   "metadata": {
    "id": "SuE1hHtsYv5h"
   },
   "outputs": [],
   "source": [
    "pred_rand = rand.predict(x_test)"
   ]
  },
  {
   "cell_type": "code",
   "execution_count": null,
   "metadata": {
    "colab": {
     "base_uri": "https://localhost:8080/"
    },
    "id": "Fyjap6TwY1kk",
    "outputId": "6109dbbc-8283-4e6a-a9e2-8aed90fd7cab"
   },
   "outputs": [
    {
     "name": "stdout",
     "output_type": "stream",
     "text": [
      "Fitting 3 folds for each of 27 candidates, totalling 81 fits\n"
     ]
    },
    {
     "name": "stderr",
     "output_type": "stream",
     "text": [
      "[Parallel(n_jobs=-1)]: Using backend LokyBackend with 2 concurrent workers.\n",
      "[Parallel(n_jobs=-1)]: Done  28 tasks      | elapsed:   17.0s\n",
      "[Parallel(n_jobs=-1)]: Done  81 out of  81 | elapsed:   46.5s finished\n"
     ]
    },
    {
     "name": "stdout",
     "output_type": "stream",
     "text": [
      "              precision    recall  f1-score   support\n",
      "\n",
      "           0       1.00      0.67      0.80         3\n",
      "           1       0.75      1.00      0.86         3\n",
      "           2       1.00      1.00      1.00         2\n",
      "           3       1.00      1.00      1.00         2\n",
      "           4       1.00      1.00      1.00         2\n",
      "           5       1.00      1.00      1.00         2\n",
      "           6       1.00      1.00      1.00         6\n",
      "\n",
      "    accuracy                           0.95        20\n",
      "   macro avg       0.96      0.95      0.95        20\n",
      "weighted avg       0.96      0.95      0.95        20\n",
      "\n",
      "Best score :  0.9871794871794872\n",
      "Best params :  {'max_depth': 10, 'min_samples_split': 2, 'n_estimators': 400}\n"
     ]
    }
   ],
   "source": [
    "from sklearn.model_selection import GridSearchCV\n",
    "from sklearn.metrics import accuracy_score, classification_report\n",
    "\n",
    "params = {\n",
    "    'n_estimators':[300,400,500],\n",
    "    'max_depth':[5,10,15],\n",
    "    'min_samples_split':[2,5,8]\n",
    "}\n",
    "grid_rand = GridSearchCV(rand,params,cv=3,verbose=3,n_jobs=-1)\n",
    "\n",
    "grid_rand.fit(x_train,y_train)\n",
    "\n",
    "pred_rand = grid_rand.predict(x_test)\n",
    "\n",
    "print(classification_report(y_test,pred_rand))\n",
    "\n",
    "print('Best score : ',grid_rand.best_score_)\n",
    "print('Best params : ',grid_rand.best_params_)"
   ]
  },
  {
   "cell_type": "code",
   "execution_count": null,
   "metadata": {
    "id": "LLoo5Me-ZNCc"
   },
   "outputs": [],
   "source": [
    "#pickling the file\n",
    "import pickle\n",
    "pickle_out = open('fert.pkl','wb')\n",
    "pickle.dump(grid_rand,pickle_out)\n",
    "pickle_out.close()"
   ]
  },
  {
   "cell_type": "code",
   "execution_count": null,
   "metadata": {
    "colab": {
     "base_uri": "https://localhost:8080/"
    },
    "id": "5zLpAvB7ZZZi",
    "outputId": "551a8017-a993-4805-f6c1-4c9921f350d9"
   },
   "outputs": [
    {
     "name": "stdout",
     "output_type": "stream",
     "text": [
      "14-35-14\n"
     ]
    }
   ],
   "source": [
    "model = pickle.load(open('fert.pkl','rb'))\n",
    "ans = model.predict([[34,65\t,\t1,\t7,\t9,\t30,7.210306462,34.66666667]])\n",
    "if ans[0] == 0:\n",
    "    print(\"10-26-26\")\n",
    "elif ans[0] ==1:\n",
    "    print(\"14-35-14\")\n",
    "elif ans[0] == 2:\n",
    "    print(\"17-17-17\t\")\n",
    "elif ans[0] == 3:\n",
    "    print(\"20-20\")\n",
    "elif ans[0] == 4:\n",
    "    print(\"28-28\")\n",
    "elif ans[0] == 5:\n",
    "    print(\"DAP\")\n",
    "else:\n",
    "    print(\"Urea\")"
   ]
  },
  {
   "cell_type": "code",
   "execution_count": null,
   "metadata": {
    "id": "x1B1NMu8Zdcn"
   },
   "outputs": [],
   "source": []
  }
 ],
 "metadata": {
  "colab": {
   "name": "fertilizer.ipynb",
   "provenance": []
  },
  "kernelspec": {
   "display_name": "Python 3",
   "language": "python",
   "name": "python3"
  },
  "language_info": {
   "codemirror_mode": {
    "name": "ipython",
    "version": 3
   },
   "file_extension": ".py",
   "mimetype": "text/x-python",
   "name": "python",
   "nbconvert_exporter": "python",
   "pygments_lexer": "ipython3",
   "version": "3.8.5"
  }
 },
 "nbformat": 4,
 "nbformat_minor": 1
}
